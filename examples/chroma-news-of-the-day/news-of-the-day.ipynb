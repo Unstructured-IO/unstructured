{
 "cells": [
  {
   "cell_type": "markdown",
   "id": "a92fa55b-7051-4aad-9aae-15eec21704d1",
   "metadata": {},
   "source": [
    "# News of the Day\n",
    "\n",
    "In this notebook, we'll show how to use [Unstructured.IO](https://unstructured.io/), [ChromaDB](https://www.trychroma.com/), and [LangChain](https://github.com/langchain-ai/langchain) to summarize topics from the front page of CNN Lite. Without tooling from the modern LLM stack, this would have been a time-consuming project. With Unstructured, Chroma, and LangChain, the entire workflow is less than two dozen lines of code."
   ]
  },
  {
   "cell_type": "markdown",
   "id": "28208685-c4a9-4e59-973c-2144f64dc275",
   "metadata": {},
   "source": [
    "## Gather links with `unstructured`\n",
    "\n",
    "First, we'll gather links from the [CNN Lite](https://lite.cnn.com/) homepage using the `partition_html` function from `unstructured`. When `unstructured` partitions HTML pages, links are included in the metadata for each element, make link collection a simple task. "
   ]
  },
  {
   "cell_type": "code",
   "execution_count": 1,
   "id": "d994c585-af48-416e-99fa-6bf9f736c4f7",
   "metadata": {},
   "outputs": [],
   "source": [
    "from unstructured.partition.html import partition_html"
   ]
  },
  {
   "cell_type": "code",
   "execution_count": 2,
   "id": "f3ae24d4-2926-4ea3-ad12-52e372918039",
   "metadata": {},
   "outputs": [],
   "source": [
    "cnn_lite_url = \"https://lite.cnn.com/\""
   ]
  },
  {
   "cell_type": "code",
   "execution_count": 3,
   "id": "deca76d9-8f38-4dcc-a34a-466aaba3ab45",
   "metadata": {},
   "outputs": [],
   "source": [
    "elements = partition_html(url=cnn_lite_url)"
   ]
  },
  {
   "cell_type": "code",
   "execution_count": 4,
   "id": "cb258d76-459e-4249-88e3-5bd340e06a32",
   "metadata": {},
   "outputs": [],
   "source": [
    "links = []\n",
    "\n",
    "for element in elements:\n",
    "    if element.metadata.link_urls:\n",
    "        relative_link = element.metadata.link_urls[0][1:]\n",
    "        if relative_link.startswith(\"2024\"):\n",
    "            links.append(f\"{cnn_lite_url}{relative_link}\")"
   ]
  },
  {
   "cell_type": "code",
   "execution_count": 5,
   "id": "c4189214-0cf4-4ccf-b996-bb89c1d30233",
   "metadata": {},
   "outputs": [
    {
     "data": {
      "text/plain": [
       "98"
      ]
     },
     "execution_count": 5,
     "metadata": {},
     "output_type": "execute_result"
    }
   ],
   "source": [
    "len(links)"
   ]
  },
  {
   "cell_type": "markdown",
   "id": "0e340a96-e66b-431a-8416-4a9b4d2bdadf",
   "metadata": {},
   "source": [
    "## Ingest individual articles with `UnstructuredURLLoader`\n",
    "\n",
    "Now that we have the links, we can preprocess individual news articles with `UnstructuredURLLoader`. `UnstructuredURLLoader` fetches content from the web and then uses the `unstructured` `partition` function to extract content and metadata. In this example we preprocess HTML files, but it works with other response types such as `application/pdf` as well. After calling `.load()`, the result is a list of `langchain` `Document` objects."
   ]
  },
  {
   "cell_type": "code",
   "execution_count": 6,
   "id": "cd629187-dcd7-4411-8e61-dea34bae2963",
   "metadata": {},
   "outputs": [],
   "source": [
    "from langchain.document_loaders import UnstructuredURLLoader\n",
    "\n",
    "loaders = UnstructuredURLLoader(urls=links[:20], show_progress_bar=True)"
   ]
  },
  {
   "cell_type": "code",
   "execution_count": 7,
   "id": "6249c4c4-4c0d-4c49-8f0b-4e6f97b5d8c8",
   "metadata": {},
   "outputs": [
    {
     "name": "stderr",
     "output_type": "stream",
     "text": [
      "100%|███████████████████████████████████████████████████████████████████████████████████████████████████████████████████████████████████████| 20/20 [00:04<00:00,  4.67it/s]\n"
     ]
    }
   ],
   "source": [
    "docs = loaders.load()"
   ]
  },
  {
   "cell_type": "code",
   "execution_count": 8,
   "id": "aef8c3ea-26e9-4a09-8314-0d1e7580ae26",
   "metadata": {},
   "outputs": [
    {
     "data": {
      "text/plain": [
       "Document(page_content='CNN\\n\\n3/13/2024\\n\\nRFK Jr.’s VP prospect Aaron Rodgers has shared\\xa0false\\xa0Sandy Hook conspiracy theories\\xa0in private conversations\\n\\nBy Pamela Brown and Jake Tapper, CNN\\n\\nUpdated: \\n        5:33 PM EDT, Wed March 13, 2024\\n\\nSource: CNN\\n\\nIndependent presidential candidate Robert F. Kennedy Jr. has confirmed that among his potential vice-presidential prospects is New York Jets quarterback Aaron Rodgers,\\xa0who\\xa0in private conversations shared deranged conspiracy theories\\xa0about the 2012 Sandy Hook school shooting not being real.\\n\\nCNN knows of two people with whom Rodgers has enthusiastically shared these stories,\\xa0including with Pamela Brown, one of the journalists writing this piece.\\n\\nBrown was covering the Kentucky Derby for CNN in\\xa02013\\xa0when she was introduced to Rodgers, then with the Green Bay Packers, at a post-Derby party. Hearing that she was a journalist with CNN, Rodgers immediately began attacking the news media for covering up important stories. Rodgers brought up the tragic killing\\xa0of 20 children and 6 adults by a gunman at Sandy Hook Elementary School,\\xa0claiming\\xa0it was actually a government inside job and the media was intentionally ignoring it.\\n\\nWhen Brown questioned him on the evidence to show this very real shooting was staged, Rodgers began sharing various theories that have been disproven numerous times. Such conspiracy theories were also later at the center of lawsuits brought by victims’ families when they sued conspiracy theorist Alex Jones on the matter.\\n\\nJones baselessly repeating lies that the 2012 mass shooting was staged, and that the families and first responders were “crisis actors,” spawned multiple lawsuits and a trial was held in 2022 over lawsuits that were filed in Connecticut.\\n\\nFamily members throughout that trial described in poignant terms how the lies had prompted unrelenting harassment against them and compounded the emotional agony of losing their loved ones.\\n\\nBrown recalls Rodgers asking her if she thought it was off that there were men in black in the woods by the school,\\xa0falsely\\xa0claiming those men were actually government operatives. Brown found the encounter disturbing.\\n\\nRodgers, through one of his agents, declined to comment to CNN.\\n\\nCNN has spoken to another person with a similar story. This person, to whom CNN has granted anonymity so as to avoid harassment, recalled that several years ago, Rodgers claimed, “Sandy Hook never happened…All those children never existed. They were all actors.”\\n\\nWhen asked about the grieving parents, the source recalled Rodgers saying, “They’re all making it up. They’re all actors.”\\n\\nRodgers went on to delve into some of the darker caverns of the false conspiracy theory. This person found the encounter disturbing.\\n\\nKennedy’s campaign\\xa0announced Wednesday that the candidate will name his running mate on March 26 in Oakland, California. Kennedy told CNN in an interview on Tuesday that he had recently met with Rodgers, as well as former Minnesota Gov. Jesse Ventura, about the possibility of joining his campaign.\\n\\nSee Full Web Article\\n\\nGo to the full CNN experience\\n\\n© 2024 Cable News Network. A Warner Bros. Discovery Company. All Rights Reserved.\\n\\nTerms of Use\\n\\nPrivacy Policy\\n\\nAd Choices\\n\\nCookie Settings', metadata={'source': 'https://lite.cnn.com/2024/03/13/politics/aaron-rodgers-sandy-hook-conspiracy-theories/index.html'})"
      ]
     },
     "execution_count": 8,
     "metadata": {},
     "output_type": "execute_result"
    }
   ],
   "source": [
    "docs[0]"
   ]
  },
  {
   "cell_type": "markdown",
   "id": "90852a76-6804-4eb4-9929-b15a3dcfec4f",
   "metadata": {},
   "source": [
    "## Load documents into ChromaDB\n",
    "\n",
    "With the documents preprocessed, we're now ready to load them into ChromaDB. We accomplish this easily by using the OpenAI embeddings the Chroma vectrostore from `langchain`. This workflow will vectorize the documents using the OpenAI embeddings endpoint, and then load the documents and associated vectors into Chroma. Once the documents are in Chroma, we can perform a similarity search to retrieve documents related to our topic of interest."
   ]
  },
  {
   "cell_type": "code",
   "execution_count": 9,
   "id": "dfdf919b-f7b1-4ea3-af49-44d333c53c4d",
   "metadata": {},
   "outputs": [],
   "source": [
    "from langchain.vectorstores.chroma import Chroma\n",
    "from langchain.embeddings import OpenAIEmbeddings"
   ]
  },
  {
   "cell_type": "code",
   "execution_count": 10,
   "id": "4576e386-0fca-4d73-88dd-7df7d1afdef8",
   "metadata": {},
   "outputs": [],
   "source": [
    "embeddings = OpenAIEmbeddings()\n",
    "vectorstore = Chroma.from_documents(docs, embeddings)"
   ]
  },
  {
   "cell_type": "code",
   "execution_count": 11,
   "id": "dc31bc23-21e8-4c96-9eb2-5a09734ca936",
   "metadata": {},
   "outputs": [],
   "source": [
    "query_docs = vectorstore.similarity_search(\n",
    "    \"What is behind the rapid increase in car insurance rates?\", k=1\n",
    ")"
   ]
  },
  {
   "cell_type": "markdown",
   "id": "d1c1498d-6b68-4c7f-9787-78c06f5992f1",
   "metadata": {},
   "source": [
    "## Summarize the Documents\n",
    "\n",
    "After retrieving relevant documents from Chroma, we're ready to summarize them! There are multiple ways to accomplish this in `langchain`, but `load_summarization_chain` is the easiest. Simply choose an LLM, load the summarization chain, and you're ready to summarize the documents. Here we limit the summary to snippets related to our topic of choice."
   ]
  },
  {
   "cell_type": "code",
   "execution_count": 12,
   "id": "85326ac4-ed5b-4ae9-aae0-854c8e0587b0",
   "metadata": {},
   "outputs": [],
   "source": [
    "from langchain.chat_models import ChatOpenAI\n",
    "from langchain.chains.summarize import load_summarize_chain"
   ]
  },
  {
   "cell_type": "code",
   "execution_count": 13,
   "id": "de09860c-0b95-4a91-abf3-92c683446c00",
   "metadata": {},
   "outputs": [],
   "source": [
    "llm = ChatOpenAI(temperature=0, model_name=\"gpt-3.5-turbo-16k\")\n",
    "chain = load_summarize_chain(llm, chain_type=\"stuff\")"
   ]
  },
  {
   "cell_type": "code",
   "execution_count": 14,
   "id": "c3e4e37d-286a-4d58-813a-3c4a02f31ab0",
   "metadata": {},
   "outputs": [
    {
     "name": "stdout",
     "output_type": "stream",
     "text": [
      "Car insurance rates in the US have increased by almost 21% in the past year, contributing to the overall inflation rate. The rise can be attributed to rising car repair costs, more severe and frequent car accidents, and riskier driving behaviors. The increase in rates varies by state, with Nevada experiencing the highest jump and North Carolina the smallest. While rates are expected to moderate nationally in the second half of 2024, some markets may continue to see increases.\n"
     ]
    }
   ],
   "source": [
    "print(chain.run(query_docs))"
   ]
  },
  {
   "cell_type": "code",
   "execution_count": null,
   "id": "283ed440-042c-4a84-8956-54a4912d9da6",
   "metadata": {},
   "outputs": [],
   "source": []
  }
 ],
 "metadata": {
  "kernelspec": {
   "display_name": "Python 3 (ipykernel)",
   "language": "python",
   "name": "python3"
  },
  "language_info": {
   "codemirror_mode": {
    "name": "ipython",
    "version": 3
   },
   "file_extension": ".py",
   "mimetype": "text/x-python",
   "name": "python",
   "nbconvert_exporter": "python",
   "pygments_lexer": "ipython3",
   "version": "3.10.12"
  }
 },
 "nbformat": 4,
 "nbformat_minor": 5
}
