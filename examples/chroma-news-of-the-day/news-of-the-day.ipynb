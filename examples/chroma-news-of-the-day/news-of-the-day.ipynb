{
 "cells": [
  {
   "cell_type": "markdown",
   "id": "a92fa55b-7051-4aad-9aae-15eec21704d1",
   "metadata": {},
   "source": [
    "# News of the Day\n",
    "\n",
    "In this notebook, we'll show how to use [Unstructured.IO](https://unstructured.io/), [ChromaDB](https://www.trychroma.com/), and [LangChain](https://github.com/langchain-ai/langchain) to summarize topics from the front page of CNN Lite. Without tooling from the modern LLM stack, this would have been a time-consuming project. With Unstructured, Chroma, and LangChain, the entire workflow is less than two dozen lines of code."
   ]
  },
  {
   "cell_type": "markdown",
   "id": "28208685-c4a9-4e59-973c-2144f64dc275",
   "metadata": {},
   "source": [
    "## Gather links with `unstructured`\n",
    "\n",
    "First, we'll gather links from the [CNN Lite](https://lite.cnn.com/) homepage using the `partition_html` function from `unstructured`. When `unstructured` partitions HTML pages, links are included in the metadata for each element, make link collection a simple task. "
   ]
  },
  {
   "cell_type": "code",
   "execution_count": 1,
   "id": "d994c585-af48-416e-99fa-6bf9f736c4f7",
   "metadata": {},
   "outputs": [],
   "source": [
    "from unstructured.partition.html import partition_html"
   ]
  },
  {
   "cell_type": "code",
   "execution_count": 2,
   "id": "f3ae24d4-2926-4ea3-ad12-52e372918039",
   "metadata": {},
   "outputs": [],
   "source": [
    "cnn_lite_url = \"https://lite.cnn.com/\""
   ]
  },
  {
   "cell_type": "code",
   "execution_count": 3,
   "id": "deca76d9-8f38-4dcc-a34a-466aaba3ab45",
   "metadata": {},
   "outputs": [],
   "source": [
    "elements = partition_html(url=cnn_lite_url)"
   ]
  },
  {
   "cell_type": "code",
   "execution_count": 4,
   "id": "cb258d76-459e-4249-88e3-5bd340e06a32",
   "metadata": {},
   "outputs": [],
   "source": [
    "links = []\n",
    "for element in elements:\n",
    "    if element.metadata.links is not None:\n",
    "        relative_link = element.metadata.links[0][\"url\"][1:]\n",
    "        if relative_link.startswith(\"2023\"):\n",
    "            links.append(f\"{cnn_lite_url}{relative_link}\")"
   ]
  },
  {
   "cell_type": "code",
   "execution_count": 5,
   "id": "c4189214-0cf4-4ccf-b996-bb89c1d30233",
   "metadata": {},
   "outputs": [
    {
     "data": {
      "text/plain": [
       "['https://lite.cnn.com/2023/08/07/entertainment/william-friedkin-death/index.html',\n",
       " 'https://lite.cnn.com/2023/08/07/us/alabama-boat-dock-fight-warrants/index.html',\n",
       " 'https://lite.cnn.com/2023/08/07/us/extreme-heat-death-toll-underestimate-climate/index.html',\n",
       " 'https://lite.cnn.com/2023/08/06/us/charles-gregory-missing-st-augustine/index.html',\n",
       " 'https://lite.cnn.com/2023/08/07/opinions/womens-world-cup-morocco-nigeria-south-africa-jamaica-aziz/index.html']"
      ]
     },
     "execution_count": 5,
     "metadata": {},
     "output_type": "execute_result"
    }
   ],
   "source": [
    "links[:5]"
   ]
  },
  {
   "cell_type": "markdown",
   "id": "0e340a96-e66b-431a-8416-4a9b4d2bdadf",
   "metadata": {},
   "source": [
    "## Ingest individual articles with `UnstructuredURLLoader`\n",
    "\n",
    "Now that we have the links, we can preprocess individual news articles with `UnstructuredURLLoader`. `UnstructuredURLLoader` fetches content from the web and then uses the `unstructured` `partition` function to extract content and metadata. In this example we preprocess HTML files, but it works with other response types such as `application/pdf` as well. After calling `.load()`, the result is a list of `langchain` `Document` objects."
   ]
  },
  {
   "cell_type": "code",
   "execution_count": 6,
   "id": "cd629187-dcd7-4411-8e61-dea34bae2963",
   "metadata": {},
   "outputs": [],
   "source": [
    "from langchain.document_loaders import UnstructuredURLLoader\n",
    "\n",
    "loaders = UnstructuredURLLoader(\n",
    "    urls=links, mode=\"elements\", show_progress_bar=True,\n",
    ")"
   ]
  },
  {
   "cell_type": "code",
   "execution_count": 7,
   "id": "6249c4c4-4c0d-4c49-8f0b-4e6f97b5d8c8",
   "metadata": {},
   "outputs": [
    {
     "name": "stderr",
     "output_type": "stream",
     "text": [
      "100%|█████████████████████████████████████████████████████████████████████| 94/94 [00:11<00:00,  8.34it/s]\n"
     ]
    }
   ],
   "source": [
    "docs = loaders.load()"
   ]
  },
  {
   "cell_type": "code",
   "execution_count": 8,
   "id": "aef8c3ea-26e9-4a09-8314-0d1e7580ae26",
   "metadata": {},
   "outputs": [
    {
     "data": {
      "text/plain": [
       "Document(page_content='William Friedkin, ‘Exorcist’ director, dead at 87', metadata={'filetype': 'text/html', 'page_number': 1, 'url': 'https://lite.cnn.com/2023/08/07/entertainment/william-friedkin-death/index.html', 'category': 'Title'})"
      ]
     },
     "execution_count": 8,
     "metadata": {},
     "output_type": "execute_result"
    }
   ],
   "source": [
    "docs[2]"
   ]
  },
  {
   "cell_type": "markdown",
   "id": "90852a76-6804-4eb4-9929-b15a3dcfec4f",
   "metadata": {},
   "source": [
    "## Load documents into ChromaDB\n",
    "\n",
    "With the documents preprocessed, we're not ready to load them into ChromaDB. We accomplish this easily by using the OpenAI embeddings the Chroma vectrostore from `langchain`. This workflow will vectorize the documents using the OpenAI embeddings endpoint, and then load the documents and associated vectors into Chroma. Once the documents are in Chroma, we can perform a similarity search to retrieve documents related to our topic of interest."
   ]
  },
  {
   "cell_type": "code",
   "execution_count": 9,
   "id": "dfdf919b-f7b1-4ea3-af49-44d333c53c4d",
   "metadata": {},
   "outputs": [],
   "source": [
    "from langchain.vectorstores.chroma import Chroma\n",
    "from langchain.embeddings import OpenAIEmbeddings"
   ]
  },
  {
   "cell_type": "code",
   "execution_count": 10,
   "id": "4576e386-0fca-4d73-88dd-7df7d1afdef8",
   "metadata": {},
   "outputs": [],
   "source": [
    "embeddings = OpenAIEmbeddings()\n",
    "vectorstore = Chroma.from_documents(docs, embeddings)"
   ]
  },
  {
   "cell_type": "code",
   "execution_count": 11,
   "id": "dc31bc23-21e8-4c96-9eb2-5a09734ca936",
   "metadata": {},
   "outputs": [],
   "source": [
    "query_docs = vectorstore.similarity_search(\"Update on the coup in Niger.\", k=10)"
   ]
  },
  {
   "cell_type": "markdown",
   "id": "d1c1498d-6b68-4c7f-9787-78c06f5992f1",
   "metadata": {},
   "source": [
    "## Summarize the Documents\n",
    "\n",
    "After retrieving relevant documents from Chroma, we're ready to summarize them! There are multiple ways to accomplish this in `langchain`, but `load_summarization_chain` is the easiest. Simply choose an LLM, load the summarization chain, and you're ready to summarize the documents. Here we limit the summary to snippets related to our topic of choice."
   ]
  },
  {
   "cell_type": "code",
   "execution_count": 12,
   "id": "85326ac4-ed5b-4ae9-aae0-854c8e0587b0",
   "metadata": {},
   "outputs": [],
   "source": [
    "from langchain.chat_models import ChatOpenAI\n",
    "from langchain.chains.summarize import load_summarize_chain"
   ]
  },
  {
   "cell_type": "code",
   "execution_count": 13,
   "id": "de09860c-0b95-4a91-abf3-92c683446c00",
   "metadata": {},
   "outputs": [],
   "source": [
    "llm = ChatOpenAI(temperature=0, model_name=\"gpt-3.5-turbo-16k\")\n",
    "chain = load_summarize_chain(llm, chain_type=\"stuff\")"
   ]
  },
  {
   "cell_type": "code",
   "execution_count": 14,
   "id": "c3e4e37d-286a-4d58-813a-3c4a02f31ab0",
   "metadata": {},
   "outputs": [
    {
     "name": "stdout",
     "output_type": "stream",
     "text": [
      "The military coup in Niger took place in late July, with President Mohamed Bazoum being seized by the presidential guard. National institutions were shut down and protests from both sides ensued. The coup leaders are now facing a deadline to give up power or face possible military action from neighboring countries. Pro-coup protests have been taking place throughout the country. The Economic Community of West African States (ECOWAS) has enacted sanctions and issued an ultimatum to the military junta. The United States and some Western nations have condemned the coup, and Niger's armed forces have brought in reinforcements in preparation for potential military intervention. As the deadline expired, Niger's airspace closed due to the threat of intervention from neighboring countries.\n"
     ]
    }
   ],
   "source": [
    "print(chain.run(query_docs))"
   ]
  }
 ],
 "metadata": {
  "kernelspec": {
   "display_name": "Python 3 (ipykernel)",
   "language": "python",
   "name": "python3"
  },
  "language_info": {
   "codemirror_mode": {
    "name": "ipython",
    "version": 3
   },
   "file_extension": ".py",
   "mimetype": "text/x-python",
   "name": "python",
   "nbconvert_exporter": "python",
   "pygments_lexer": "ipython3",
   "version": "3.10.11"
  }
 },
 "nbformat": 4,
 "nbformat_minor": 5
}
