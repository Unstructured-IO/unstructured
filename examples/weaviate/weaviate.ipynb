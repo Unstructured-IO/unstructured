{
 "cells": [
  {
   "cell_type": "code",
   "execution_count": 1,
   "id": "5d9ffc17",
   "metadata": {},
   "outputs": [],
   "source": [
    "import json\n",
    "\n",
    "import tqdm\n",
    "from unstructured.partition.pdf import partition_pdf\n",
    "from unstructured.staging.weaviate import create_unstructured_weaviate_class, stage_for_weaviate\n",
    "import weaviate"
   ]
  },
  {
   "cell_type": "code",
   "execution_count": 2,
   "id": "f9fc0cf9",
   "metadata": {},
   "outputs": [],
   "source": [
    "filename = \"../../example-docs/layout-parser-paper-fast.pdf\"\n",
    "elements = partition_pdf(filename=filename, strategy=\"fast\")"
   ]
  },
  {
   "cell_type": "code",
   "execution_count": 3,
   "id": "91057cb1",
   "metadata": {},
   "outputs": [],
   "source": [
    "unstructured_class_name = \"UnstructuredDocument\""
   ]
  },
  {
   "cell_type": "code",
   "execution_count": 4,
   "id": "78e804bb",
   "metadata": {},
   "outputs": [],
   "source": [
    "unstructured_class = create_unstructured_weaviate_class(unstructured_class_name)\n",
    "schema = {\"classes\": [unstructured_class]}                    "
   ]
  },
  {
   "cell_type": "code",
   "execution_count": 5,
   "id": "3e317a2d",
   "metadata": {},
   "outputs": [],
   "source": [
    "from weaviate.util import generate_uuid5\n",
    "client = weaviate.Client(\"http://localhost:8080\")"
   ]
  },
  {
   "cell_type": "code",
   "execution_count": 6,
   "id": "0c508784",
   "metadata": {},
   "outputs": [],
   "source": [
    "client.schema.create(schema)"
   ]
  },
  {
   "cell_type": "code",
   "execution_count": 7,
   "id": "a7018bb1",
   "metadata": {},
   "outputs": [],
   "source": [
    "data_objects = stage_for_weaviate(elements)"
   ]
  },
  {
   "cell_type": "code",
   "execution_count": 8,
   "id": "af712d8e",
   "metadata": {},
   "outputs": [
    {
     "name": "stderr",
     "output_type": "stream",
     "text": [
      "100%|██████████████████████████████████████████████████████████████████████| 28/28 [00:46<00:00,  1.66s/it]\n"
     ]
    }
   ],
   "source": [
    "with client.batch(batch_size=10) as batch:\n",
    "    for data_object in tqdm.tqdm(data_objects):\n",
    "        batch.add_data_object(\n",
    "            data_object,\n",
    "            unstructured_class_name,\n",
    "            uuid=generate_uuid5(data_object),\n",
    "        )"
   ]
  },
  {
   "cell_type": "code",
   "execution_count": 9,
   "id": "14098434",
   "metadata": {},
   "outputs": [
    {
     "name": "stdout",
     "output_type": "stream",
     "text": [
      "{\n",
      "    \"data\": {\n",
      "        \"Get\": {\n",
      "            \"UnstructuredDocument\": [\n",
      "                {\n",
      "                    \"text\": \"Deep Learning(DL)-based approaches are the state-of-the-art for a wide range of document image analysis (DIA) tasks including document image classi\\ufb01cation [11,\"\n",
      "                }\n",
      "            ]\n",
      "        }\n",
      "    }\n",
      "}\n"
     ]
    }
   ],
   "source": [
    "near_text = {\"concepts\": [\"document understanding\"]}\n",
    "\n",
    "result = (\n",
    "    client.query\n",
    "    .get(\"UnstructuredDocument\", [\"text\"])\n",
    "    .with_near_text(near_text)\n",
    "    .with_limit(1)\n",
    "    .do()\n",
    ")\n",
    "\n",
    "print(json.dumps(result, indent=4))"
   ]
  },
  {
   "cell_type": "code",
   "execution_count": null,
   "id": "c191217c",
   "metadata": {},
   "outputs": [],
   "source": []
  }
 ],
 "metadata": {
  "kernelspec": {
   "display_name": "Python 3 (ipykernel)",
   "language": "python",
   "name": "python3"
  },
  "language_info": {
   "codemirror_mode": {
    "name": "ipython",
    "version": 3
   },
   "file_extension": ".py",
   "mimetype": "text/x-python",
   "name": "python",
   "nbconvert_exporter": "python",
   "pygments_lexer": "ipython3",
   "version": "3.8.13"
  }
 },
 "nbformat": 4,
 "nbformat_minor": 5
}
