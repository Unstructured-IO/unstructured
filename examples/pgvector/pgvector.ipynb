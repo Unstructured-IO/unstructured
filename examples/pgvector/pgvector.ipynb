{
 "cells": [
  {
   "cell_type": "code",
   "execution_count": 20,
   "id": "10e09990",
   "metadata": {},
   "outputs": [],
   "source": [
    "import os\n",
    "\n",
    "import tqdm\n",
    "\n",
    "from langchain.document_loaders import UnstructuredFileLoader\n",
    "from langchain.embeddings.openai import OpenAIEmbeddings\n",
    "from langchain.vectorstores.pgvector import PGVector"
   ]
  },
  {
   "cell_type": "code",
   "execution_count": 13,
   "id": "890d4fe2",
   "metadata": {},
   "outputs": [],
   "source": [
    "EXAMPLE_DOCS_DIRECTORY = \"../../example-docs\""
   ]
  },
  {
   "cell_type": "code",
   "execution_count": 30,
   "id": "a5ea5765",
   "metadata": {},
   "outputs": [
    {
     "name": "stderr",
     "output_type": "stream",
     "text": [
      " 34%|███████████████████████▋                                             | 11/32 [00:00<00:00, 104.68it/s]PDF text is not extractable. Cannot use the fast partitioning strategy. Falling back to partitioning with the ocr_only strategy.\n",
      "100%|██████████████████████████████████████████████████████████████████████| 32/32 [00:04<00:00,  7.10it/s]\n"
     ]
    }
   ],
   "source": [
    "docs = []\n",
    "files = os.listdir(EXAMPLE_DOCS_DIRECTORY)\n",
    "for f in tqdm.tqdm(files):\n",
    "    filename = os.path.join(EXAMPLE_DOCS_DIRECTORY, f)\n",
    "    if not os.path.isfile(filename):\n",
    "        continue\n",
    "    if not filename.endswith(\".pdf\"):\n",
    "        continue\n",
    "    loader = UnstructuredFileLoader(filename, mode=\"elements\", strategy=\"fast\")\n",
    "    docs.extend(loader.load())"
   ]
  },
  {
   "cell_type": "code",
   "execution_count": 31,
   "id": "07af2495",
   "metadata": {},
   "outputs": [
    {
     "data": {
      "text/plain": [
       "Document(page_content='1 2 0 2', metadata={'source': '../../example-docs/layout-parser-paper-fast.pdf', 'filename': '../../example-docs/layout-parser-paper-fast.pdf', 'page_number': 1, 'category': 'UncategorizedText'})"
      ]
     },
     "execution_count": 31,
     "metadata": {},
     "output_type": "execute_result"
    }
   ],
   "source": [
    "docs[0]"
   ]
  },
  {
   "cell_type": "code",
   "execution_count": 32,
   "id": "cecce342",
   "metadata": {},
   "outputs": [],
   "source": [
    "vectorstore = PGVector.from_documents(\n",
    "    docs, \n",
    "    embedding=OpenAIEmbeddings(),\n",
    "    connection_string=\"postgresql://localhost:5432/postgres\",\n",
    ")"
   ]
  },
  {
   "cell_type": "code",
   "execution_count": 34,
   "id": "e29b3954",
   "metadata": {},
   "outputs": [],
   "source": [
    "results = vectorstore.similarity_search(\"document image analysis\", k=3, filter={\"category\": \"NarrativeText\"})"
   ]
  },
  {
   "cell_type": "code",
   "execution_count": 36,
   "id": "34743692",
   "metadata": {},
   "outputs": [
    {
     "data": {
      "text/plain": [
       "{'source': '../../example-docs/copy-protected.pdf',\n",
       " 'filename': '../../example-docs/copy-protected.pdf',\n",
       " 'page_number': 2,\n",
       " 'category': 'NarrativeText'}"
      ]
     },
     "execution_count": 36,
     "metadata": {},
     "output_type": "execute_result"
    }
   ],
   "source": [
    "results[1].metadata"
   ]
  },
  {
   "cell_type": "code",
   "execution_count": 40,
   "id": "fe207e0f",
   "metadata": {},
   "outputs": [],
   "source": [
    "from copy import deepcopy\n",
    "import datetime"
   ]
  },
  {
   "cell_type": "code",
   "execution_count": 38,
   "id": "9711cbd7",
   "metadata": {},
   "outputs": [],
   "source": [
    "m = deepcopy(results[1].metadata)"
   ]
  },
  {
   "cell_type": "code",
   "execution_count": 41,
   "id": "30e4409f",
   "metadata": {},
   "outputs": [],
   "source": [
    "m[\"date\"] = datetime.datetime.now()"
   ]
  },
  {
   "cell_type": "code",
   "execution_count": 42,
   "id": "3d677506",
   "metadata": {},
   "outputs": [
    {
     "data": {
      "text/plain": [
       "{'source': '../../example-docs/copy-protected.pdf',\n",
       " 'filename': '../../example-docs/copy-protected.pdf',\n",
       " 'page_number': 2,\n",
       " 'category': 'NarrativeText',\n",
       " 'date': datetime.datetime(2023, 5, 9, 15, 58, 56, 419472)}"
      ]
     },
     "execution_count": 42,
     "metadata": {},
     "output_type": "execute_result"
    }
   ],
   "source": [
    "m"
   ]
  },
  {
   "cell_type": "code",
   "execution_count": null,
   "id": "e22376aa",
   "metadata": {},
   "outputs": [],
   "source": []
  }
 ],
 "metadata": {
  "kernelspec": {
   "display_name": "Python 3 (ipykernel)",
   "language": "python",
   "name": "python3"
  },
  "language_info": {
   "codemirror_mode": {
    "name": "ipython",
    "version": 3
   },
   "file_extension": ".py",
   "mimetype": "text/x-python",
   "name": "python",
   "nbconvert_exporter": "python",
   "pygments_lexer": "ipython3",
   "version": "3.8.13"
  }
 },
 "nbformat": 4,
 "nbformat_minor": 5
}
