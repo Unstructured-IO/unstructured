{
 "cells": [
  {
   "cell_type": "markdown",
   "id": "2db148f4",
   "metadata": {},
   "source": [
    "# Unstructured Core Concepts\n",
    "\n",
    "The goal of this notebook is to introduce users to the core concepts in the `unstructured` library. At the conclusion of this notebook, you should be able to do the following:\n",
    "\n",
    "- Understand the different types of bricks in the `unstructured` library.\n",
    "- Understand how documents are structured in the `unstructured` library.\n",
    "- Partition a document.\n",
    "- Convert the document to a dictionary."
   ]
  },
  {
   "cell_type": "code",
   "execution_count": 7,
   "id": "a326d600",
   "metadata": {},
   "outputs": [],
   "source": [
    "import os\n",
    "import pathlib\n",
    "\n",
    "DIRECTORY = os.path.abspath(\"\")\n",
    "EXAMPLE_DOCS_DIRECTORY = os.path.join(DIRECTORY, \"..\", \"..\", \"example-docs\")"
   ]
  },
  {
   "cell_type": "code",
   "execution_count": null,
   "id": "ed111c40",
   "metadata": {},
   "outputs": [],
   "source": []
  }
 ],
 "metadata": {
  "kernelspec": {
   "display_name": "Python 3 (ipykernel)",
   "language": "python",
   "name": "python3"
  },
  "language_info": {
   "codemirror_mode": {
    "name": "ipython",
    "version": 3
   },
   "file_extension": ".py",
   "mimetype": "text/x-python",
   "name": "python",
   "nbconvert_exporter": "python",
   "pygments_lexer": "ipython3",
   "version": "3.8.13"
  }
 },
 "nbformat": 4,
 "nbformat_minor": 5
}
