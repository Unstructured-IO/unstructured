{
 "cells": [
  {
   "cell_type": "markdown",
   "id": "2db148f4",
   "metadata": {},
   "source": [
    "# Unstructured Core Concepts\n",
    "\n",
    "The goal of this notebook is to introduce users to the core concepts in the `unstructured` library. At the conclusion of this notebook, you should be able to do the following:\n",
    "\n",
    "- [Partition a document.](#partition)\n",
    "- [Understand how documents are structured in the `unstructured` library.](#elements)\n",
    "- [Convert the document to a dictionary.](#dict)"
   ]
  },
  {
   "cell_type": "code",
   "execution_count": 1,
   "id": "a326d600",
   "metadata": {},
   "source": [
    "import os\n",
    "import pathlib\n",
    "\n",
    "DIRECTORY = os.path.abspath(\"\")\n",
    "EXAMPLE_DOCS_DIRECTORY = os.path.join(DIRECTORY, \"..\", \"..\", \"example-docs\")"
   ],
   "outputs": []
  },
  {
   "cell_type": "markdown",
   "id": "e46cc852",
   "metadata": {},
   "source": [
    "## Partitioning a document <a id=\"partition\"></a>\n",
    "\n",
    "In this section, we'll cut right to the chase and get to the most important part of the library: partitioning a document. The goal of document partitioning is to read in a source document, split the document into sections, categorize those sections, and extract the text associated with those sections. Depending on the document type, `unstructured` uses different methods for partitioning a document. We'll cover those in a later training notebook. For now, we'll use the simplest API in the library, the `partition` function. The `partition` function will detect the filetype of the source document and route it to the appropriate partitioning function. You can try out the `partition` function by running the cell below."
   ]
  },
  {
   "cell_type": "code",
   "execution_count": 2,
   "id": "015a9385",
   "metadata": {},
   "source": [
    "from unstructured.partition.auto import partition\n",
    "\n",
    "filename = os.path.join(EXAMPLE_DOCS_DIRECTORY, \"layout-parser-paper-fast.pdf\")\n",
    "elements = partition(filename=filename)"
   ],
   "outputs": []
  },
  {
   "cell_type": "code",
   "execution_count": 3,
   "id": "a4e7a5bc",
   "metadata": {},
   "source": [
    "elements"
   ],
   "outputs": []
  },
  {
   "cell_type": "markdown",
   "id": "e8009e7b",
   "metadata": {},
   "source": [
    "You can also partition a document from a file-like object instead of a filename as follows:"
   ]
  },
  {
   "cell_type": "code",
   "execution_count": 4,
   "id": "dd54b5b0",
   "metadata": {},
   "source": [
    "with open(filename, \"rb\") as f:\n",
    "    elements = partition(file=f)"
   ],
   "outputs": []
  },
  {
   "cell_type": "code",
   "execution_count": 5,
   "id": "97a7274b",
   "metadata": {},
   "source": [
    "elements"
   ],
   "outputs": []
  },
  {
   "cell_type": "markdown",
   "id": "832144c6",
   "metadata": {},
   "source": [
    "#### Troubleshooting Note:\n",
    "\n",
    "- Filetype detection in the `partition` function relies on the `libmagic` library. If you don't have that installed on your system, `partition` will throw an error.\n",
    "- For `partition` to work on PDFs and images, you'll need to have installed `unstructured[local-inference]` along with the `detectron2` model. See the `README` for a full list of install instructions."
   ]
  },
  {
   "cell_type": "markdown",
   "id": "d5d63fc9",
   "metadata": {},
   "source": [
    "## `unstructured` document elements <a id=\"elements\"><a>\n",
    "\n",
    "When we partition a document, the output is a list of document `Element` objects. These element objects represent different components of the source document. Currently, the `unstructured` library supports the following element types:\n",
    "    \n",
    "- `Element`\n",
    "    - `Text`\n",
    "        - `FigureCaption`\n",
    "        - `NarrativeText`\n",
    "        - `ListItem`\n",
    "        - `Title`\n",
    "        -  `Address`\n",
    "    - `CheckBox`\n",
    "    - `Image`\n",
    "    - `PageBreak`\n",
    "    \n",
    "Other element types that we will add in the future include tables and figures. Different partitioning functions use different methods for determining the element type and extracting the associated content. Document elements have a `str` representation. You can print them using the snippet below."
   ]
  },
  {
   "cell_type": "code",
   "execution_count": 6,
   "id": "76a2e17a",
   "metadata": {},
   "source": [
    "filename = os.path.join(EXAMPLE_DOCS_DIRECTORY, \"example-10k.html\")\n",
    "elements = partition(filename=filename)\n",
    "\n",
    "for element in elements[:5]:\n",
    "    print(element)\n",
    "    print(\"\\n\")"
   ],
   "outputs": []
  },
  {
   "cell_type": "markdown",
   "id": "9d8ab7d6",
   "metadata": {},
   "source": [
    "One helpful aspect of document elements is that they allow you to cut a document down to the elements that you need for your particular use case. For example, if you're training a summarization model you may only want to include narrative text for model training. You'll notice that the output above includes a lot of titles and other content that may not be suitable for a summarization model. The following code shows how you can limit your output to only narrative text with at least two sentences. As you can see, the output now only contains narrative text."
   ]
  },
  {
   "cell_type": "code",
   "execution_count": 7,
   "id": "96c11b32",
   "metadata": {},
   "source": [
    "from unstructured.documents.elements import NarrativeText\n",
    "from unstructured.partition.text_type import sentence_count\n",
    "\n",
    "for element in elements[:100]:\n",
    "    if isinstance(element, NarrativeText) and sentence_count(element.text) > 2:\n",
    "        print(element)\n",
    "        print(\"\\n\")"
   ],
   "outputs": []
  },
  {
   "cell_type": "markdown",
   "id": "6b06a398",
   "metadata": {},
   "source": [
    "## Converting to a dictionary <a id=\"dict\"></a>\n",
    "\n",
    "The final step in the process for most users is to convert the output to JSON. You can convert a list of document elements to a list of dictionaries using the `convert_to_dict` function. The workflow for using `convert_to_dict` appears below."
   ]
  },
  {
   "cell_type": "code",
   "execution_count": 8,
   "id": "45d5b5f4",
   "metadata": {},
   "source": [
    "from unstructured.staging.base import convert_to_dict"
   ],
   "outputs": []
  },
  {
   "cell_type": "code",
   "execution_count": 9,
   "id": "5d13fc38",
   "metadata": {},
   "source": [
    "convert_to_dict(elements)"
   ],
   "outputs": []
  }
 ],
 "metadata": {
  "kernelspec": {
   "display_name": "Python 3 (ipykernel)",
   "language": "python",
   "name": "python3"
  },
  "language_info": {
   "codemirror_mode": {
    "name": "ipython",
    "version": 3
   },
   "file_extension": ".py",
   "mimetype": "text/x-python",
   "name": "python",
   "nbconvert_exporter": "python",
   "pygments_lexer": "ipython3",
   "version": "3.8.13"
  }
 },
 "nbformat": 4,
 "nbformat_minor": 5
}
