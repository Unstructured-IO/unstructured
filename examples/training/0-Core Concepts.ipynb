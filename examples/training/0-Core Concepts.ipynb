{
 "cells": [
  {
   "cell_type": "markdown",
   "id": "2db148f4",
   "metadata": {},
   "source": [
    "# Unstructured Core Concepts\n",
    "\n",
    "The goal of this notebook is to introduce users to the core concepts in the `unstructured` library. At the conclusion of this notebook, you should be able to do the following:\n",
    "\n",
    "- [Partition a document.](#partition)\n",
    "- [Understand how documents are structured in the `unstructured` library.](#elements)\n",
    "- [Convert the document to a dictionary.](#dict)"
   ]
  },
  {
   "cell_type": "code",
   "execution_count": 1,
   "id": "a326d600",
   "metadata": {},
   "outputs": [],
   "source": [
    "import os\n",
    "import pathlib\n",
    "\n",
    "DIRECTORY = os.path.abspath(\"\")\n",
    "EXAMPLE_DOCS_DIRECTORY = os.path.join(DIRECTORY, \"..\", \"..\", \"example-docs\")"
   ]
  },
  {
   "cell_type": "markdown",
   "id": "e46cc852",
   "metadata": {},
   "source": [
    "## Partitioning a document <a id=\"partition\"></a>\n",
    "\n",
    "In this section, we'll cut right to the chase and get to the most important part of the library: partitioning a document. The goal of document partitioning is to read in a source document, split the document into sections, categorize those sections, and extract the text associated with those sections. Depending on the document type, `unstructured` uses different methods for partitioning a document. We'll cover those in a later training notebook. For now, we'll use the simplest API in the library, the `partition` function. The `partition` function will detect the filetype of the source document and route it to the appropriate partitioning function. You can try out the `partition` function by running the cell below."
   ]
  },
  {
   "cell_type": "code",
   "execution_count": 2,
   "id": "015a9385",
   "metadata": {},
   "outputs": [],
   "source": [
    "from unstructured.partition.auto import partition\n",
    "\n",
    "filename = os.path.join(EXAMPLE_DOCS_DIRECTORY, \"layout-parser-paper-fast.pdf\")\n",
    "elements = partition(filename=filename)"
   ]
  },
  {
   "cell_type": "code",
   "execution_count": 3,
   "id": "a4e7a5bc",
   "metadata": {},
   "outputs": [
    {
     "data": {
      "text/plain": [
       "[<unstructured.documents.elements.Title at 0x28954b6d0>,\n",
       " <unstructured.documents.elements.NarrativeText at 0x105f6d460>,\n",
       " <unstructured.documents.elements.ListItem at 0x1071ee100>,\n",
       " <unstructured.documents.elements.ListItem at 0x17fa02ee0>,\n",
       " <unstructured.documents.elements.ListItem at 0x17f07e040>,\n",
       " <unstructured.documents.elements.ListItem at 0x17f07e520>,\n",
       " <unstructured.documents.elements.ListItem at 0x17f07e640>,\n",
       " <unstructured.documents.elements.ListItem at 0x17f07e370>,\n",
       " <unstructured.documents.elements.NarrativeText at 0x1071d1760>,\n",
       " <unstructured.documents.elements.NarrativeText at 0x17f07e5b0>,\n",
       " <unstructured.documents.elements.Title at 0x17f07e3d0>,\n",
       " <unstructured.documents.elements.NarrativeText at 0x17f07e430>,\n",
       " <unstructured.documents.elements.NarrativeText at 0x17f07e4c0>,\n",
       " <unstructured.documents.elements.NarrativeText at 0x17f07e460>,\n",
       " <unstructured.documents.elements.NarrativeText at 0x17f07e130>,\n",
       " <unstructured.documents.elements.ListItem at 0x17f07e0a0>,\n",
       " <unstructured.documents.elements.ListItem at 0x17f07e190>,\n",
       " <unstructured.documents.elements.ListItem at 0x17f07e280>,\n",
       " <unstructured.documents.elements.ListItem at 0x17f07e250>,\n",
       " <unstructured.documents.elements.ListItem at 0x17ecb1340>,\n",
       " <unstructured.documents.elements.ListItem at 0x17efe1280>,\n",
       " <unstructured.documents.elements.NarrativeText at 0x17f07e160>,\n",
       " <unstructured.documents.elements.NarrativeText at 0x17efe1d90>]"
      ]
     },
     "execution_count": 3,
     "metadata": {},
     "output_type": "execute_result"
    }
   ],
   "source": [
    "elements"
   ]
  },
  {
   "cell_type": "markdown",
   "id": "e8009e7b",
   "metadata": {},
   "source": [
    "You can also partitioning a document from a file-like object instead of a filename as follows:"
   ]
  },
  {
   "cell_type": "code",
   "execution_count": 4,
   "id": "dd54b5b0",
   "metadata": {},
   "outputs": [],
   "source": [
    "with open(filename, \"rb\") as f:\n",
    "    elements = partition(file=f)"
   ]
  },
  {
   "cell_type": "code",
   "execution_count": 5,
   "id": "97a7274b",
   "metadata": {},
   "outputs": [
    {
     "data": {
      "text/plain": [
       "[<unstructured.documents.elements.Title at 0x28504d880>,\n",
       " <unstructured.documents.elements.NarrativeText at 0x1584a1190>,\n",
       " <unstructured.documents.elements.ListItem at 0x2895920d0>,\n",
       " <unstructured.documents.elements.ListItem at 0x2895923d0>,\n",
       " <unstructured.documents.elements.ListItem at 0x2895924f0>,\n",
       " <unstructured.documents.elements.ListItem at 0x289592220>,\n",
       " <unstructured.documents.elements.ListItem at 0x289592490>,\n",
       " <unstructured.documents.elements.ListItem at 0x289592430>,\n",
       " <unstructured.documents.elements.NarrativeText at 0x17e441220>,\n",
       " <unstructured.documents.elements.NarrativeText at 0x289592310>,\n",
       " <unstructured.documents.elements.Title at 0x2895923a0>,\n",
       " <unstructured.documents.elements.NarrativeText at 0x289592370>,\n",
       " <unstructured.documents.elements.NarrativeText at 0x2895920a0>,\n",
       " <unstructured.documents.elements.NarrativeText at 0x289592160>,\n",
       " <unstructured.documents.elements.NarrativeText at 0x289592100>,\n",
       " <unstructured.documents.elements.ListItem at 0x174ae1f10>,\n",
       " <unstructured.documents.elements.ListItem at 0x174ae1f40>,\n",
       " <unstructured.documents.elements.ListItem at 0x1746dca30>,\n",
       " <unstructured.documents.elements.ListItem at 0x17ee70bb0>,\n",
       " <unstructured.documents.elements.ListItem at 0x17490e730>,\n",
       " <unstructured.documents.elements.ListItem at 0x17490e490>,\n",
       " <unstructured.documents.elements.NarrativeText at 0x174ae1fd0>,\n",
       " <unstructured.documents.elements.NarrativeText at 0x17490e850>]"
      ]
     },
     "execution_count": 5,
     "metadata": {},
     "output_type": "execute_result"
    }
   ],
   "source": [
    "elements"
   ]
  },
  {
   "cell_type": "markdown",
   "id": "832144c6",
   "metadata": {},
   "source": [
    "#### Troubleshooting Note:\n",
    "\n",
    "- Filetype detection in the `partition` function relies on the `libmagic` library. If you don't have that installed on your system, `partition` will throw an error.\n",
    "- For `partition` to work on PDFs and images, you'll need to have installed `unstructured[local-inference]` along with the `detectron2` model. See the `README` for a full list of install instructions."
   ]
  },
  {
   "cell_type": "markdown",
   "id": "d5d63fc9",
   "metadata": {},
   "source": [
    "## `unstructured` document elements <a id=\"elements\"><a>\n",
    "\n",
    "When we partition a document, the output is a list of document `Element` objects. These element objects represent different components of the source document. Currently, the `unstructured` library supports the following element types:\n",
    "    \n",
    "- `Element`\n",
    "    - `Text`\n",
    "        - `FigureCaption`\n",
    "        - `NarrativeText`\n",
    "        - `ListItem`\n",
    "        - `Title`\n",
    "        -  `Address`\n",
    "    - `CheckBox`\n",
    "    - `Image`\n",
    "    - `PageBreak`\n",
    "    \n",
    "Other element types that we will add in the future include tables and figures. Different partioning functions use different methods for determining the element type and extracting the associated content. Document elements has a `str` representation. You can print them using the snippet below."
   ]
  },
  {
   "cell_type": "code",
   "execution_count": 6,
   "id": "76a2e17a",
   "metadata": {},
   "outputs": [
    {
     "name": "stdout",
     "output_type": "stream",
     "text": [
      "UNITED STATES\n",
      "\n",
      "\n",
      "SECURITIES AND EXCHANGE COMMISSION\n",
      "\n",
      "\n",
      "Washington, D.C. 20549\n",
      "\n",
      "\n",
      "FORM 10-K\n",
      "\n",
      "\n",
      "ANNUAL REPORT PURSUANT TO SECTION 13 OR 15(d) OF THE SECURITIES EXCHANGE ACT OF 1934\n",
      "\n",
      "\n"
     ]
    }
   ],
   "source": [
    "filename = os.path.join(EXAMPLE_DOCS_DIRECTORY, \"example-10k.html\")\n",
    "elements = partition(filename=filename)\n",
    "\n",
    "for element in elements[:5]:\n",
    "    print(element)\n",
    "    print(\"\\n\")"
   ]
  },
  {
   "cell_type": "markdown",
   "id": "9d8ab7d6",
   "metadata": {},
   "source": [
    "One helpful aspect of document elements is that they allow you to cut a document down to the elements that you need for your particular use case. For example, if you're training a summarization model you may only want to include narrative text for model training. You'll notice in the output above that the oput includes a lot of titles and other content that may not be suitable for a summarization model. The following code shows how you can limit your output to only narrative text with at least two sentences. As you can see, the output now only contains "
   ]
  },
  {
   "cell_type": "code",
   "execution_count": 7,
   "id": "96c11b32",
   "metadata": {},
   "outputs": [
    {
     "name": "stdout",
     "output_type": "stream",
     "text": [
      "Indicate by check mark whether the registrant has filed a report on and attestation to its management’s assessment of the effectiveness of its internal control over financial reporting under Section 404(b) of the Sarbanes-Oxley Act (15 U.S.C. 7262(b)) by the registered public accounting firm that prepared or issued its audit report.  ☐\n",
      "\n",
      "\n",
      "This report contains statements that do not relate to historical or current facts but are “forward-looking” statements. These statements relate to analyses and other information based on forecasts of future results and estimates of amounts not yet determinable. These statements may also relate to future events or trends, our future prospects and proposed new products, services, developments or business strategies, among other things. These statements can generally (although not always) be identified by their use of terms and phrases such as anticipate, appear, believe, could, would, estimate, expect, indicate, intent, may, plan, predict, project, pursue, will continue and other similar terms and phrases, as well as the use of the future tense.\n",
      "\n",
      "\n",
      "Actual results could differ materially from those expressed or implied in our forward-looking statements. Our future financial condition and results of operations, as well as any forward-looking statements, are subject to change and to inherent known and unknown risks and uncertainties. You should not assume at any point in the future that the forward-looking statements in this report are still valid. We do not intend, and undertake no obligation, to update our forward-looking statements to reflect future events or circumstances.\n",
      "\n",
      "\n"
     ]
    }
   ],
   "source": [
    "from unstructured.documents.elements import NarrativeText\n",
    "from unstructured.partition.text_type import sentence_count\n",
    "\n",
    "for element in elements[:100]:\n",
    "    if isinstance(element, NarrativeText) and sentence_count(element.text) > 2:\n",
    "        print(element)\n",
    "        print(\"\\n\")"
   ]
  },
  {
   "cell_type": "markdown",
   "id": "6b06a398",
   "metadata": {},
   "source": [
    "## Converting to a dictionary <a id=\"dict\"></a>\n",
    "\n",
    "The final step in the process for most users is to convert the output to JSON. You can convert document elements by calling the `.to_dict()` method on the `Element` objects:"
   ]
  },
  {
   "cell_type": "code",
   "execution_count": 8,
   "id": "5d13fc38",
   "metadata": {},
   "outputs": [],
   "source": [
    "output = [el.to_dict() for el in elements]"
   ]
  },
  {
   "cell_type": "code",
   "execution_count": 9,
   "id": "16f028ec",
   "metadata": {},
   "outputs": [
    {
     "data": {
      "text/plain": [
       "[{'text': 'UNITED STATES',\n",
       "  'type': 'Title',\n",
       "  'coordinates': None,\n",
       "  'element_id': '7c099db665cb2172a33c5ecd26d8f19c'},\n",
       " {'text': 'SECURITIES AND EXCHANGE COMMISSION',\n",
       "  'type': 'Title',\n",
       "  'coordinates': None,\n",
       "  'element_id': '08d6cb02ee69df563c1e877e92c2cac2'},\n",
       " {'text': 'Washington, D.C. 20549',\n",
       "  'type': 'Title',\n",
       "  'coordinates': None,\n",
       "  'element_id': '4463578c79ae29b009ca8f4756f8085f'},\n",
       " {'text': 'FORM 10-K',\n",
       "  'type': 'Title',\n",
       "  'coordinates': None,\n",
       "  'element_id': '26678be686452e6680cbc38a89def5b3'},\n",
       " {'text': 'ANNUAL REPORT PURSUANT TO SECTION 13 OR 15(d) OF THE SECURITIES EXCHANGE ACT OF 1934',\n",
       "  'type': 'Uncategorized',\n",
       "  'coordinates': None,\n",
       "  'element_id': '58688c449885cb8ab7ccd2f3c4a39273'},\n",
       " {'text': 'For the fiscal year ended\\xa0December\\xa031, 2021',\n",
       "  'type': 'NarrativeText',\n",
       "  'coordinates': None,\n",
       "  'element_id': '2d89b6cb24f3a433ea6c12bbec95845f'},\n",
       " {'text': 'TRANSITION REPORT PURSUANT TO SECTION 13 OR 15(d) OF THE SECURITIES EXCHANGE ACT OF 1934',\n",
       "  'type': 'Uncategorized',\n",
       "  'coordinates': None,\n",
       "  'element_id': '7ed43aeeed9081b969d80ed143168dc2'},\n",
       " {'text': 'For the transition period from\\xa0\\xa0\\xa0\\xa0\\xa0\\xa0\\xa0to',\n",
       "  'type': 'Title',\n",
       "  'coordinates': None,\n",
       "  'element_id': '9e4d067641628182d1c205fe7fc5ac5e'},\n",
       " {'text': 'Commission file number:\\xa0000-30653',\n",
       "  'type': 'Title',\n",
       "  'coordinates': None,\n",
       "  'element_id': '470be135c46b2bf6792ee50973d5f98a'},\n",
       " {'text': 'Galaxy Gaming, Inc.',\n",
       "  'type': 'Title',\n",
       "  'coordinates': None,\n",
       "  'element_id': '3434b6bbe88ae727f2ae58f54808a971'}]"
      ]
     },
     "execution_count": 9,
     "metadata": {},
     "output_type": "execute_result"
    }
   ],
   "source": [
    "output[:10]"
   ]
  },
  {
   "cell_type": "code",
   "execution_count": null,
   "id": "d9f24b63",
   "metadata": {},
   "outputs": [],
   "source": []
  }
 ],
 "metadata": {
  "kernelspec": {
   "display_name": "Python 3 (ipykernel)",
   "language": "python",
   "name": "python3"
  },
  "language_info": {
   "codemirror_mode": {
    "name": "ipython",
    "version": 3
   },
   "file_extension": ".py",
   "mimetype": "text/x-python",
   "name": "python",
   "nbconvert_exporter": "python",
   "pygments_lexer": "ipython3",
   "version": "3.8.13"
  }
 },
 "nbformat": 4,
 "nbformat_minor": 5
}
