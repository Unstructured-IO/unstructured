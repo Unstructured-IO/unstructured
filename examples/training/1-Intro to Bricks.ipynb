{
 "cells": [
  {
   "cell_type": "markdown",
   "id": "99b955e5",
   "metadata": {},
   "source": [
    "# Intro to Bricks\n",
    "\n",
    "The goal of this notebook is to introduce you to the concept of bricks. Bricks are functions that live in `unstructured` and are the primary public API for the library. There are three types of bricks in `unstructured`, corresponding to the different stages of document pre-processing: partitioning, cleaning, and staging. At the conclusion of this notebook, you should be able to do the following:\n",
    "\n",
    "- [Extract content from a document using partitioning bricks](#partition)\n",
    "- [Remove unwanted content from document elements using cleaning bricks](#cleaning)\n",
    "- [Preparing data for downstream use cases using staging bricks](#staging)"
   ]
  },
  {
   "cell_type": "code",
   "execution_count": 1,
   "id": "3908be82",
   "metadata": {},
   "source": [
    "import os\n",
    "import pathlib\n",
    "\n",
    "DIRECTORY = os.path.abspath(\"\")\n",
    "EXAMPLE_DOCS_DIRECTORY = os.path.join(DIRECTORY, \"..\", \"..\", \"example-docs\")"
   ],
   "outputs": []
  },
  {
   "cell_type": "markdown",
   "id": "d0842e87",
   "metadata": {},
   "source": [
    "## Partitioning bricks  <a id=\"partition\"></a>\n",
    "\n",
    "Partitioning bricks in `unstructured` allow users to extract structured content from a raw unstructured document. As we covered in the [core concepts notebook](https://github.com/Unstructured-IO/unstructured/blob/main/examples/training/0-Core%20Concepts.ipynb), partitioning bricks break a document down into elements such as `Title`, `NarrativeText`, and `ListItem`, enabling users to decide what content they'd like to keep for their particular application. If you're training a summarization model, for example, you may only be interested in `NarrativeText`.\n",
    "\n",
    "The easiest way to partition documents in `unstructured` is to use the `partition` brick. If you call the `partition` brick, `unstructured` will use `libmagic` to automatically determine the file type and invoke the appropriate `partition` function. As shown in the examples below, the `partition` function accepts both filenames and file-like objects as input. `partition` also has some includes some optional kwargs. For example, if you set `include_page_breaks=True`, the output will include `PageBreak` elements if the filetype supports it. See the\n",
    "[`unstructured` documentation](https://unstructured-io.github.io/unstructured/bricks.html#partition) for full details on available options."
   ]
  },
  {
   "cell_type": "code",
   "execution_count": 2,
   "id": "8bbb73c0",
   "metadata": {},
   "source": [
    "from unstructured.partition.auto import partition\n",
    "\n",
    "filename = os.path.join(EXAMPLE_DOCS_DIRECTORY, \"layout-parser-paper-fast.pdf\")\n",
    "elements = partition(filename=filename)"
   ],
   "outputs": []
  },
  {
   "cell_type": "code",
   "execution_count": 3,
   "id": "5319593c",
   "metadata": {},
   "source": [
    "print(\"\\n\\n\".join([str(el) for el in elements][:10]))"
   ],
   "outputs": []
  },
  {
   "cell_type": "code",
   "execution_count": 4,
   "id": "8de9bee1",
   "metadata": {},
   "source": [
    "with open(filename, \"rb\") as f:\n",
    "    elements = partition(file=f, include_page_breaks=True)"
   ],
   "outputs": []
  },
  {
   "cell_type": "code",
   "execution_count": 5,
   "id": "75c6c73c",
   "metadata": {},
   "source": [
    "print(\"\\n\\n\".join([str(el) for el in elements][5:15]))"
   ],
   "outputs": []
  },
  {
   "cell_type": "markdown",
   "id": "e3a8e7f4",
   "metadata": {},
   "source": [
    "The `unstructured` library also includes partitioning bricks targeted at specific document types. The `partition` brick uses these document-specific partitioning bricks under the hood. There are a few reasons you may want to use a document-specific partitioning brick instead of `partition`:\n",
    "\n",
    "1. If you already know the document type, filetype detection is unnecessary. Using the document-specific brick directly will make your program run faster.\n",
    "2. Fewer dependencies. You don't need to install `libmagic` for filetype detection if you're only using document-specific bricks.\n",
    "3. Additional features. The API for `partition` is the least common denominator for all document types. Certain document-specific brick include extra features that you may want to take advantage of. For example, `partition_html` allows you to pass in a URL so you don't have to store the `.html` file locally.\n",
    "\n",
    "Currently, the partitioning bricks we support in `unstructured` are:\n",
    "\n",
    "- `partition_docx`\n",
    "    - Works on `.docx` files. Does not yet work on older `.doc` files.\n",
    "- `partition_pptx`\n",
    "    - Works on `.pptx` files. Does not yet work on older `.ppt` files.\n",
    "- `partition_html`\n",
    "    - Works on `.html` files.\n",
    "    - Can pass in the HTML document as a string using the `text` kwarg.\n",
    "    - Can pass in the URL for an HTML document using the `url` kwarg.\n",
    "- `partition_pdf`\n",
    "    - Works on `.pdf` files. Partitions the document using a document image analysis model.\n",
    "    - If `url=None`, the model will run locally. If you pass in a URL, the brick will make a network call\n",
    "      to a hosted model inference API. There is also an optional `token` kwarg for passing in an authentication token.\n",
    "- `partition_image`\n",
    "    - Has the same API as `partition_pdf`. Works on `.jpg` and `.png` files.\n",
    "- `partition_email`\n",
    "    - Works on `.eml` files. Most common email clients (i.e. Gmail, Microsoft Outlook) allow users to export emails in\n",
    "      `.eml` format.\n",
    "    - Parses the `text/html` content from the email by default. If you set `content_source=\"text/plain\"`, the brick will parse the plain text instead.\n",
    "    - If you set `include_headers=True`, the output will include information from the email header.\n",
    "    - You can pass in the email as a string using the `text` kwarg.\n",
    "- `partition_text`\n",
    "    - Works on plain text files.\n",
    "    - You can pass in the document as a string using the `text` kwarg.\n",
    "\n",
    "\n",
    "See the [`unstructured` docs](https://unstructured-io.github.io/unstructured/bricks.html#partition-docx) for a full list of options. Below we see an example of how to partition a document directly with the URL using the `partition_html` function.\n"
   ]
  },
  {
   "cell_type": "code",
   "execution_count": 6,
   "id": "b7ce3fa8",
   "metadata": {},
   "source": [
    "from unstructured.partition.html import partition_html\n",
    "\n",
    "url = \"https://www.cnn.com/2023/01/30/sport/empire-state-building-green-philadelphia-eagles-spt-intl/index.html\"\n",
    "elements = partition_html(url=url)"
   ],
   "outputs": []
  },
  {
   "cell_type": "code",
   "execution_count": 7,
   "id": "ab6d9307",
   "metadata": {},
   "source": [
    "print(\"\\n\\n\".join([str(el) for el in elements]))"
   ],
   "outputs": []
  },
  {
   "cell_type": "markdown",
   "id": "e51c26ed",
   "metadata": {},
   "source": [
    "## Cleaning bricks <a id=\"cleaning\"></a>\n",
    "\n",
    "As part of data preparation for an NLP model, it's common to need to clean up your data prior to passing it into the model. If there's unwanted content in your output, it could impact the quality of your NLP model. To help with this, the `unstructured` library includes cleaning bricks to help users sanitize output before sending it to downstream applications. You can check out our [documentation](https://unstructured-io.github.io/unstructured/bricks.html#cleaning) for a full list of cleaning bricks.\n",
    "\n",
    "Some cleaning bricks apply automatically. In the example above, the output `Philadelphia Eaglesâ\\x80\\x99 victory` automatically gets converted to `Philadelphia Eagles' victory` in `partition_html` using the `replace_unicode_quotes` cleaning brick. You can see how that works in the code snippet below:"
   ]
  },
  {
   "cell_type": "code",
   "execution_count": 8,
   "id": "a1c4ba19",
   "metadata": {},
   "source": [
    "from unstructured.cleaners.core import replace_unicode_quotes\n",
    "\n",
    "replace_unicode_quotes(\"Philadelphia Eaglesâ\\x80\\x99 victory\")"
   ],
   "outputs": []
  },
  {
   "cell_type": "markdown",
   "id": "db2391ce",
   "metadata": {},
   "source": [
    "Document elements in `unstructured` include an `apply` method that allow you to apply the text cleaning to the document element without instantiating a new element. The `apply` method expects a callable that takes a string as input and produces another string as output. In the example below, we invoke the `replace_unicode_quotes` cleaning brick using the `apply` method."
   ]
  },
  {
   "cell_type": "code",
   "execution_count": 9,
   "id": "215c4b35",
   "metadata": {},
   "source": [
    "from unstructured.documents.elements import Text\n",
    "\n",
    "element = Text(\"Philadelphia Eaglesâ\\x80\\x99 victory\")\n",
    "element.apply(replace_unicode_quotes)\n",
    "print(element)"
   ],
   "outputs": []
  },
  {
   "cell_type": "markdown",
   "id": "358e149b",
   "metadata": {},
   "source": [
    "Since a cleaning brick is just a `str -> str` function, users can also easily include their own cleaning bricks for custom data preparation tasks. In the example below, we partition a Russian offensive campaign assessment from the institute of the study of war and remove citations, which are not natural language text that we want to include for model training purposes."
   ]
  },
  {
   "cell_type": "code",
   "execution_count": 10,
   "id": "ae048814",
   "metadata": {},
   "source": [
    "url = \"https://www.understandingwar.org/backgrounder/russian-offensive-campaign-assessment-february-8-2023\"\n",
    "elements = partition_html(url=url)"
   ],
   "outputs": []
  },
  {
   "cell_type": "code",
   "execution_count": 11,
   "id": "4211194b",
   "metadata": {},
   "source": [
    "from unstructured.documents.elements import NarrativeText\n",
    "\n",
    "narrative_text = [el for el in elements if isinstance(el, NarrativeText)][2:]"
   ],
   "outputs": []
  },
  {
   "cell_type": "code",
   "execution_count": 12,
   "id": "3abd4280",
   "metadata": {},
   "source": [
    "import re\n",
    "\n",
    "remove_citations = lambda text: re.sub(\"\\[\\d{1,3}\\]\", \"\", text)"
   ],
   "outputs": []
  },
  {
   "cell_type": "code",
   "execution_count": 13,
   "id": "3327feda",
   "metadata": {},
   "source": [
    "narrative_text[0].text"
   ],
   "outputs": []
  },
  {
   "cell_type": "code",
   "execution_count": 14,
   "id": "02eb95ae",
   "metadata": {},
   "source": [
    "narrative_text[0].apply(remove_citations)\n",
    "narrative_text[0].text"
   ],
   "outputs": []
  },
  {
   "cell_type": "code",
   "execution_count": 15,
   "id": "b755cc86",
   "metadata": {},
   "source": [
    "narrative_text[6].apply(remove_citations)\n",
    "narrative_text[6].text"
   ],
   "outputs": []
  },
  {
   "cell_type": "markdown",
   "id": "578a6d10",
   "metadata": {},
   "source": [
    "As we can see, the citations have been removed. After removing the citations, we still have extra whitespace represented by `\\xa0`. We can clean that up using the `clean_extra_whitespace` cleaning brick."
   ]
  },
  {
   "cell_type": "code",
   "execution_count": 16,
   "id": "7d65d7c8",
   "metadata": {},
   "source": [
    "from unstructured.cleaners.core import clean_extra_whitespace\n",
    "\n",
    "narrative_text[0].apply(clean_extra_whitespace)\n",
    "narrative_text[6].apply(clean_extra_whitespace)"
   ],
   "outputs": []
  },
  {
   "cell_type": "code",
   "execution_count": 17,
   "id": "a37f9bad",
   "metadata": {},
   "source": [
    "narrative_text[0].text"
   ],
   "outputs": []
  },
  {
   "cell_type": "code",
   "execution_count": 18,
   "id": "25245bc1",
   "metadata": {},
   "source": [
    "narrative_text[6].text"
   ],
   "outputs": []
  },
  {
   "cell_type": "markdown",
   "id": "3b99ec0b",
   "metadata": {},
   "source": [
    "Now the text is clean and formatted how we'd like it for our model training application. The best way to invoke a series of cleaning bricks is to loop over the elements and call `apply` with all of your bricks. For example, we can apply the cleaning bricks to all of the elements from the ISW article with the following code:"
   ]
  },
  {
   "cell_type": "code",
   "execution_count": 19,
   "id": "0218cc7a",
   "metadata": {},
   "source": [
    "for element in narrative_text:\n",
    "    element.apply(remove_citations)\n",
    "    element.apply(clean_extra_whitespace)"
   ],
   "outputs": []
  },
  {
   "cell_type": "markdown",
   "id": "6ecb360d",
   "metadata": {},
   "source": [
    "## Staging bricks <a id=\"staging\"></a>\n",
    "\n",
    "The final step in the process is to prepare your data for ingestion into downstream systems. We include staging bricks in the `unstructured` package to help with that. Staging bricks accept a list of document elements as input and return an appropriately formatted dictionary as output. In the example below, we get our narrative text samples prepared for ingestion into LabelStudio using the `stage_for_label_studio` brick. We can take this data and directly upload it into LabelStudio to quickly get started with an NLP labeling task."
   ]
  },
  {
   "cell_type": "code",
   "execution_count": 20,
   "id": "21819f56",
   "metadata": {},
   "source": [
    "import json\n",
    "from unstructured.staging.label_studio import stage_for_label_studio\n",
    "\n",
    "output = stage_for_label_studio(narrative_text)\n",
    "print(json.dumps(output[:2], indent=4))"
   ],
   "outputs": []
  },
  {
   "cell_type": "markdown",
   "id": "94e74c2c",
   "metadata": {},
   "source": [
    "Currently, `unstructured` supports the following staging bricks:\n",
    "\n",
    "- `stage_for_argilla`\n",
    "- `stage_for_transformers`\n",
    "- `stage_for_label_studio`\n",
    "- `stage_for_prodigy`\n",
    "- `stage_for_label_box`\n",
    "- `stage_for_datasaur`"
   ]
  },
  {
   "cell_type": "markdown",
   "id": "54477e73",
   "metadata": {},
   "source": [
    "Also included among the staging bricks are functions for converting a list of document elements to a dictionary, CSV, or dataframe. These helper functions are useful if you just want the text and don't need the data pre-formatted for a particular downstream tool. These functions include:\n",
    "\n",
    "- `convert_to_isd`\n",
    "- `convert_to_isd_csv`\n",
    "- `convert_to_dataframe`\n",
    "\n",
    "The \"ISD\" in these functions refers to \"initial structured data\", our standard dictionary representation of text elements. Here we convert the list of elements to a dictionary and a dataframe."
   ]
  },
  {
   "cell_type": "code",
   "execution_count": 21,
   "id": "6d5cf8cf",
   "metadata": {},
   "source": [
    "from unstructured.staging.base import convert_to_isd\n",
    "\n",
    "isd = convert_to_isd(elements)\n",
    "print(json.dumps(isd[:2], indent=4))"
   ],
   "outputs": []
  },
  {
   "cell_type": "code",
   "execution_count": 22,
   "id": "706cc9c7",
   "metadata": {},
   "source": [
    "from unstructured.staging.base import convert_to_dataframe\n",
    "\n",
    "df = convert_to_dataframe(elements)\n",
    "df.head()"
   ],
   "outputs": []
  },
  {
   "cell_type": "markdown",
   "id": "e572f082",
   "metadata": {},
   "source": [
    "If you have a dictionary in ISD format, you can convert back to a list of elements using the `isd_to_elements` function."
   ]
  },
  {
   "cell_type": "code",
   "execution_count": 23,
   "id": "b2c1282e",
   "metadata": {},
   "source": [
    "from unstructured.staging.base import isd_to_elements\n",
    "\n",
    "isd_to_elements(isd[:2])"
   ],
   "outputs": []
  }
 ],
 "metadata": {
  "kernelspec": {
   "display_name": "Python 3 (ipykernel)",
   "language": "python",
   "name": "python3"
  },
  "language_info": {
   "codemirror_mode": {
    "name": "ipython",
    "version": 3
   },
   "file_extension": ".py",
   "mimetype": "text/x-python",
   "name": "python",
   "nbconvert_exporter": "python",
   "pygments_lexer": "ipython3",
   "version": "3.8.13"
  }
 },
 "nbformat": 4,
 "nbformat_minor": 5
}
