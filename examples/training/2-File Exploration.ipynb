{
 "cells": [
  {
   "cell_type": "markdown",
   "id": "9cf9f373",
   "metadata": {},
   "source": [
    "# File Exploration\n",
    "\n",
    "In addition to core document processing capabilities, the `unstructured` library includes utilities for summarizing information about raw documents. We will cover how to use these utilities in this notebook. At the conclusion of this notebook, you should understand:\n",
    "\n",
    "- [Filetype detection in `unstructured`](#filetype)\n",
    "- [How to generate summary statistics about documents](#summary)"
   ]
  },
  {
   "cell_type": "code",
   "execution_count": 1,
   "id": "59392a21",
   "metadata": {},
   "source": [
    "import os\n",
    "import pathlib\n",
    "\n",
    "DIRECTORY = os.path.abspath(\"\")\n",
    "EXAMPLE_DOCS_DIRECTORY = os.path.join(DIRECTORY, \"..\", \"..\", \"example-docs\")"
   ],
   "outputs": []
  },
  {
   "cell_type": "markdown",
   "id": "9a6ce38f",
   "metadata": {},
   "source": [
    "## Filetype Detection <a id=\"filetype\"></a>\n",
    "\n",
    "The `unstructured` library includes a `detect_filetype` function that helps detect the type of an input file. To use the filetype detection utilities, you will need to install the `libmagic` library because `unstructured` uses this library under the hood for filetype detection. In addition to the MIME type from `libmagic`, the `unstructured` library uses the file extension and in some cases inspect the document to determine the document type. The following is an example of how to call `detect_filetype`."
   ]
  },
  {
   "cell_type": "code",
   "execution_count": 2,
   "id": "c6bd2f4a",
   "metadata": {},
   "source": [
    "from unstructured.file_utils.filetype import detect_filetype\n",
    "\n",
    "filename = os.path.join(EXAMPLE_DOCS_DIRECTORY, \"example-10k.html\")\n",
    "detect_filetype(filename=filename)"
   ],
   "outputs": []
  },
  {
   "cell_type": "markdown",
   "id": "c68e6a41",
   "metadata": {},
   "source": [
    "The output of `detect_filetype` is a `FileType` enum, which is defined in [`filetype.py`](https://github.com/Unstructured-IO/unstructured/blob/main/unstructured/file_utils/filetype.py). Check out the source file to see the full list of files that are supported by `detect_filetype`."
   ]
  },
  {
   "cell_type": "markdown",
   "id": "8b7dc938",
   "metadata": {},
   "source": [
    "## Summary Statistics <a id=\"summary\"></a>\n",
    "\n",
    "`unstructured` also provides utilities for summarizing the filetypes in a directory. You can use this utility for tasks such as counting by filetype and checking the average size of a file by filetype. The following example shows how to find a count of files by filetype in a directory and plot the results as a histogram."
   ]
  },
  {
   "cell_type": "code",
   "execution_count": 3,
   "id": "c53f054e",
   "metadata": {},
   "source": [
    "from unstructured.file_utils.exploration import get_directory_file_info\n",
    "\n",
    "file_info = get_directory_file_info(EXAMPLE_DOCS_DIRECTORY)\n",
    "file_info.filetype.value_counts()"
   ],
   "outputs": []
  },
  {
   "cell_type": "code",
   "execution_count": 4,
   "id": "7e1b3300",
   "metadata": {},
   "source": [
    "file_info.filetype.value_counts().plot.bar()"
   ],
   "outputs": []
  },
  {
   "cell_type": "markdown",
   "id": "c756d12e",
   "metadata": {},
   "source": [
    "You can also use this utility to find the average file size of documents in a directory, grouped by filetype."
   ]
  },
  {
   "cell_type": "code",
   "execution_count": 5,
   "id": "a600fb0f",
   "metadata": {},
   "source": [
    "file_info.groupby(\"filetype\").mean(numeric_only=True)"
   ],
   "outputs": []
  },
  {
   "cell_type": "markdown",
   "id": "870ede91",
   "metadata": {},
   "source": [
    "If you want to pass in a list of filenames instead of a directory, use `get_file_info` instead of `get_directory_file_info`, as seen in the workflow below:"
   ]
  },
  {
   "cell_type": "code",
   "execution_count": 6,
   "id": "e5e3a24d",
   "metadata": {},
   "source": [
    "from unstructured.file_utils.exploration import get_file_info\n",
    "\n",
    "filenames = [os.path.join(EXAMPLE_DOCS_DIRECTORY, f) for f in os.listdir(EXAMPLE_DOCS_DIRECTORY)]"
   ],
   "outputs": []
  },
  {
   "cell_type": "code",
   "execution_count": 7,
   "id": "d8e59472",
   "metadata": {},
   "source": [
    "filenames"
   ],
   "outputs": []
  },
  {
   "cell_type": "code",
   "execution_count": 8,
   "id": "cb0add28",
   "metadata": {},
   "source": [
    "file_info = get_file_info(filenames=filenames)\n",
    "file_info.filetype.value_counts()"
   ],
   "outputs": []
  },
  {
   "cell_type": "code",
   "execution_count": null,
   "id": "ac4473b0",
   "metadata": {},
   "source": [],
   "outputs": []
  }
 ],
 "metadata": {
  "kernelspec": {
   "display_name": "Python 3 (ipykernel)",
   "language": "python",
   "name": "python3"
  },
  "language_info": {
   "codemirror_mode": {
    "name": "ipython",
    "version": 3
   },
   "file_extension": ".py",
   "mimetype": "text/x-python",
   "name": "python",
   "nbconvert_exporter": "python",
   "pygments_lexer": "ipython3",
   "version": "3.8.13"
  }
 },
 "nbformat": 4,
 "nbformat_minor": 5
}
